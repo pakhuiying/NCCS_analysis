{
 "cells": [
  {
   "cell_type": "markdown",
   "metadata": {},
   "source": [
    "# LTA API usage\n",
    "- bus stops\n",
    "- bus routes\n",
    "- bus services\n",
    "- passenger volume by bus stops\n",
    "- estimated travel times\n",
    "- traffic incidents (from weather)\n",
    "- traffic flow"
   ]
  },
  {
   "cell_type": "code",
   "execution_count": null,
   "metadata": {},
   "outputs": [],
   "source": [
    "from LTA_API_key import API_key\n",
    "import requests\n",
    "import json\n",
    "import pandas as pd\n",
    "import numpy as np\n",
    "import math\n",
    "import importlib\n",
    "from bs4 import BeautifulSoup\n",
    "import re\n",
    "import os\n",
    "\n",
    "import helper_functions.routing.publicTransit\n",
    "importlib.reload(helper_functions.routing.publicTransit)\n",
    "import helper_functions.routing.publicTransit as publicTransit"
   ]
  },
  {
   "cell_type": "code",
   "execution_count": null,
   "metadata": {},
   "outputs": [],
   "source": [
    "def get_lta_response(url,params=None):\n",
    "    \"\"\" returns API response in json format\n",
    "    Args:\n",
    "        url (str): url of API end point\n",
    "        params (dict): parameters to request\n",
    "    Returns:\n",
    "        dict: API response from the input url\n",
    "    \"\"\"\n",
    "    headers = {\"AccountKey\": API_key}\n",
    "\n",
    "    # A GET request to the API\n",
    "    response = requests.request(\"GET\", url, headers=headers,params=params)\n",
    "\n",
    "    # Print the response\n",
    "    return response.json()\n"
   ]
  },
  {
   "cell_type": "code",
   "execution_count": null,
   "metadata": {},
   "outputs": [],
   "source": [
    "bus_stops = get_lta_response(url = \"https://datamall2.mytransport.sg/ltaodataservice/BusStops\")\n",
    "bus_stops"
   ]
  },
  {
   "cell_type": "code",
   "execution_count": null,
   "metadata": {},
   "outputs": [],
   "source": [
    "import pandas as pd\n",
    "import os\n",
    "df = pd.DataFrame(bus_stops['value'])\n",
    "df.to_csv(os.path.join(r\"C:\\Users\\hypak\\OneDrive - Singapore Management University\\Documents\\Data\\SG_LTA\",'SG_bus_stops.csv'),index=False)"
   ]
  },
  {
   "cell_type": "code",
   "execution_count": null,
   "metadata": {},
   "outputs": [],
   "source": [
    "[v for v in bus_stops['value'] if v['BusStopCode']==\"10009\"]"
   ]
  },
  {
   "cell_type": "code",
   "execution_count": null,
   "metadata": {},
   "outputs": [],
   "source": [
    "bus_routes = get_lta_response(url = \"https://datamall2.mytransport.sg/ltaodataservice/BusRoutes\")\n",
    "bus_routes\n"
   ]
  },
  {
   "cell_type": "code",
   "execution_count": null,
   "metadata": {},
   "outputs": [],
   "source": [
    "bus_services = get_lta_response(url = \"https://datamall2.mytransport.sg/ltaodataservice/BusServices\")\n",
    "bus_services\n",
    "\n",
    "# AM_Peak_Fre: Freq of dispatch for AM Peak 0630H - 0830H (range in minutes)\n",
    "# AM_Offpeak_Freq: Freq of dispatch for AM Off-Peak 0831H - 1659H (range in minutes)\n",
    "# PM_Peak_Freq: Freq of dispatch for PM Peak 1700H - 1900H (range in minutes)\n",
    "# PM_Offpeak_Freq: Freq of dispatch for PM Off-Peak after 1900H (range in minutes)"
   ]
  },
  {
   "cell_type": "code",
   "execution_count": null,
   "metadata": {},
   "outputs": [],
   "source": [
    "passenger_vol_by_bus_stops = get_lta_response(url = \"https://datamall2.mytransport.sg/ltaodataservice/PV/Bus\")\n",
    "passenger_vol_by_bus_stops"
   ]
  },
  {
   "cell_type": "code",
   "execution_count": null,
   "metadata": {},
   "outputs": [],
   "source": [
    "traffic_flow = get_lta_response(url = \"https://datamall2.mytransport.sg/ltaodataservice/TrafficFlow\")\n",
    "traffic_flow"
   ]
  },
  {
   "cell_type": "code",
   "execution_count": null,
   "metadata": {},
   "outputs": [],
   "source": [
    "passenger_vol_by_origin_destination = get_lta_response(url = \"https://datamall2.mytransport.sg/ltaodataservice/PV/ODBus\",\n",
    "                                                       )\n",
    "passenger_vol_by_origin_destination"
   ]
  },
  {
   "cell_type": "code",
   "execution_count": null,
   "metadata": {},
   "outputs": [],
   "source": [
    "passenger_vol_by_train_stations = get_lta_response(url = \"https://datamall2.mytransport.sg/ltaodataservice/PV/Train\")\n",
    "passenger_vol_by_train_stations"
   ]
  },
  {
   "cell_type": "code",
   "execution_count": null,
   "metadata": {},
   "outputs": [],
   "source": [
    "estimated_travel_times = get_lta_response(url = \"https://datamall2.mytransport.sg/ltaodataservice/EstTravelTimes\")\n",
    "estimated_travel_times"
   ]
  },
  {
   "cell_type": "code",
   "execution_count": null,
   "metadata": {},
   "outputs": [],
   "source": [
    "pd.DataFrame(estimated_travel_times['value']).to_csv(r\"C:\\Users\\hypak\\OneDrive - Singapore Management University\\Documents\\Data\\SG_LTA\\20250319_estimatedTravelTimes.csv\",index=False)"
   ]
  },
  {
   "cell_type": "code",
   "execution_count": null,
   "metadata": {},
   "outputs": [],
   "source": [
    "travel_speed_bands = get_lta_response(url = \"https://datamall2.mytransport.sg/ltaodataservice/v3/TrafficSpeedBands\")\n",
    "travel_speed_bands"
   ]
  },
  {
   "cell_type": "code",
   "execution_count": null,
   "metadata": {},
   "outputs": [],
   "source": [
    "pd.DataFrame(travel_speed_bands['value']).to_csv(r\"C:\\Users\\hypak\\OneDrive - Singapore Management University\\Documents\\Data\\SG_LTA\\TravelSpeedBands_20250320_13-55-00.csv\",index=False)"
   ]
  },
  {
   "cell_type": "code",
   "execution_count": null,
   "metadata": {},
   "outputs": [],
   "source": [
    "GeospatialWholeIsland = get_lta_response(url = \"https://datamall2.mytransport.sg/ltaodataservice/GeospatialWholeIsland\",\n",
    "                                         params={'ID':'BusStopLocation'})\n",
    "GeospatialWholeIsland"
   ]
  },
  {
   "cell_type": "code",
   "execution_count": null,
   "metadata": {},
   "outputs": [],
   "source": [
    "carparkAvailability = get_lta_response(url = \"https://datamall2.mytransport.sg/ltaodataservice/CarParkAvailabilityv2\")\n",
    "carparkAvailability"
   ]
  },
  {
   "cell_type": "code",
   "execution_count": null,
   "metadata": {},
   "outputs": [],
   "source": [
    "import time\n",
    "from datetime import datetime\n",
    "\n",
    "time_cum = 0\n",
    "while time_cum < 24*3600:\n",
    "    carparkAvailability = get_lta_response(url = \"https://datamall2.mytransport.sg/ltaodataservice/CarParkAvailabilityv2\")\n",
    "    df = pd.DataFrame(carparkAvailability['value'])\n",
    "    now = datetime.now()\n",
    "    current_time = now.strftime(\"%Y-%m-%d %H-%M-%S\")\n",
    "    print(\"Current Time =\", current_time)\n",
    "    df.to_csv(os.path.join(r\"C:\\Users\\hypak\\OneDrive - Singapore Management University\\Documents\\Data\\SG_LTA\\CarParkAvailability\",f'{current_time}.csv'),index=False)\n",
    "    time.sleep(3600)\n",
    "    time_cum += 3600\n",
    "    "
   ]
  },
  {
   "cell_type": "markdown",
   "metadata": {},
   "source": [
    "# GTFS Data\n",
    "\n",
    "Current static GTFS obtained from [LTA](https://www.transit.land/feeds/f-w21z-lta)"
   ]
  },
  {
   "cell_type": "code",
   "execution_count": null,
   "metadata": {},
   "outputs": [],
   "source": [
    "import pandas as pd\n",
    "import numpy as np\n",
    "import math"
   ]
  },
  {
   "cell_type": "markdown",
   "metadata": {},
   "source": [
    "## shapes.txt"
   ]
  },
  {
   "cell_type": "code",
   "execution_count": null,
   "metadata": {},
   "outputs": [],
   "source": [
    "gtfs_df = pd.read_csv(r\"C:\\Users\\hypak\\OneDrive - Singapore Management University\\Documents\\Data\\SG_LTA\\gtfs-feed-lta\\shapes.txt\")\n",
    "gtfs_df = gtfs_df.sort_values(by=['shape_id','shape_pt_sequence'])\n",
    "gtfs_df_dict = {shape_id:df for shape_id, df in gtfs_df.groupby('shape_id', as_index = False)}\n",
    "gtfs_df_dict"
   ]
  },
  {
   "cell_type": "code",
   "execution_count": null,
   "metadata": {},
   "outputs": [],
   "source": [
    "def planar_distance(lat1, lon1, lat2, lon2):\n",
    "    # Conversion factors\n",
    "    meters_per_degree_lat = 111320  # Approximate meters per degree of latitude\n",
    "    meters_per_degree_lon = 111320 * math.cos(math.radians(lat1))  # Approximate meters per degree of longitude at given latitude\n",
    "\n",
    "    # Calculate differences in coordinates\n",
    "    delta_lat = lat2 - lat1\n",
    "    delta_lon = lon2 - lon1\n",
    "\n",
    "    # Convert differences to meters\n",
    "    delta_lat_meters = delta_lat * meters_per_degree_lat\n",
    "    delta_lon_meters = delta_lon * meters_per_degree_lon\n",
    "\n",
    "    # Use Pythagorean theorem to calculate distance\n",
    "    distance = math.sqrt(delta_lat_meters ** 2 + delta_lon_meters ** 2)\n",
    "    return distance\n",
    "\n",
    "def get_shape_dist_traveled(df):\n",
    "    \"\"\" adds the shape_dist_traveled column to df - cummulative distance travelled\n",
    "    Args:\n",
    "        df (pd.DataFrame): GTFS dataframe of a unique shape_id. Must have lat and lon columns\n",
    "    Returns:\n",
    "        pd.DataFrame: with an appended column 'shape_dist_traveled' which describes the cummulative distance\n",
    "    \"\"\"\n",
    "    coordinates = df.iloc[:,1:3].values\n",
    "    # print(df.iloc[:,1:3])\n",
    "    meters_per_degree_lat = 111320  # Approximate meters per degree of latitude\n",
    "    # meters_per_degree_lon = 111320 * math.cos(math.radians(lat1))  # Approximate meters per degree of longitude at given latitude\n",
    "    diff_coords = np.diff(coordinates,axis=0)\n",
    "    distance_multiplier = np.ones(diff_coords.shape) # to perform matrix multiplication later\n",
    "    distance_multiplier[:,0] = distance_multiplier[:,0]*meters_per_degree_lat\n",
    "    # Approximate meters per degree of longitude at given latitude\n",
    "    distance_multiplier[:,1] = distance_multiplier[:,1]*np.cos(np.radians(diff_coords[0,0]))*meters_per_degree_lat\n",
    "    distance_metres = np.multiply(diff_coords,distance_multiplier)\n",
    "    distance_metres = np.linalg.norm(distance_metres,axis=1)\n",
    "\n",
    "    # calculate cummulative distance\n",
    "    cum_dist = np.cumsum(distance_metres)\n",
    "    cum_dist = [0] + cum_dist.tolist()\n",
    "    # lin_dist = [0] + distance_metres.tolist()\n",
    "    df['shape_dist_traveled'] = cum_dist\n",
    "    return df\n",
    "\n",
    "get_shape_dist_traveled(gtfs_df_dict[list(gtfs_df_dict)[-1]])"
   ]
  },
  {
   "cell_type": "code",
   "execution_count": null,
   "metadata": {},
   "outputs": [],
   "source": [
    "shape_dist_traveled = pd.concat([get_shape_dist_traveled(df) for df in gtfs_df_dict.values()])\n",
    "shape_dist_traveled.to_csv(r\"C:\\Users\\hypak\\OneDrive - Singapore Management University\\Documents\\Data\\SG_LTA\\gtfs-feed-lta\\shapes1.txt\",index=False)\n",
    "shape_dist_traveled"
   ]
  },
  {
   "cell_type": "markdown",
   "metadata": {},
   "source": [
    "### stops.txt\n",
    "[GTFS reference](https://gtfs.org/documentation/schedule/reference/#stopstxt)"
   ]
  },
  {
   "cell_type": "code",
   "execution_count": null,
   "metadata": {},
   "outputs": [],
   "source": [
    "gtfs_stops = pd.read_csv(r\"C:\\Users\\hypak\\OneDrive - Singapore Management University\\Documents\\Data\\SG_LTA\\gtfs-feed-lta - Copy\\stops.txt\")\n",
    "gtfs_stops['parent_station'] = ''\n",
    "rearranged_columns = ['stop_id','stop_code','stop_name','stop_lat','stop_lon','stop_url','parent_station','wheelchair_boarding']\n",
    "gtfs_stops = gtfs_stops[rearranged_columns]\n",
    "gtfs_stops.to_csv(r\"C:\\Users\\hypak\\OneDrive - Singapore Management University\\Documents\\Data\\SG_LTA\\gtfs-feed-lta - Copy\\stops1.txt\")\n",
    "gtfs_stops"
   ]
  },
  {
   "cell_type": "markdown",
   "metadata": {},
   "source": [
    "# Scrap bus service routes\n",
    "\n",
    "- Some missing route information in the GTFS dataset"
   ]
  },
  {
   "cell_type": "code",
   "execution_count": null,
   "metadata": {},
   "outputs": [],
   "source": [
    "url = \"https://moovitapp.com/singapore_%E6%96%B0%E5%8A%A0%E5%9D%A1-1678/lines/en-gb?ref=Lines&customerId=4908\"\n",
    "def scrap_moovit_lines(url):\n",
    "    response = requests.get(url)\n",
    "    response.text\n",
    "    # Check if request was successful\n",
    "    if response.status_code == 200:\n",
    "        # Parse the HTML content\n",
    "        soup = BeautifulSoup(response.text, 'html.parser')\n",
    "        \n",
    "        # Find all <h3> elements inside the list\n",
    "        lines = soup.find_all(\"span\",class_=\"line-title primary\")\n",
    "        for line in lines:\n",
    "            print(line.text.strip())\n",
    "\n",
    "    return\n",
    "scrap_moovit_lines(url)"
   ]
  },
  {
   "cell_type": "code",
   "execution_count": null,
   "metadata": {},
   "outputs": [],
   "source": [
    "re.findall(\"SBS Transit(.*?)Changi Airport\",response.text)"
   ]
  },
  {
   "cell_type": "code",
   "execution_count": null,
   "metadata": {},
   "outputs": [],
   "source": [
    "url = \"https://moovitapp.com/index/en-gb/public_transportation-line-859-Singapore_%E6%96%B0%E5%8A%A0%E5%9D%A1-1678-873544-60310654-0\"\n",
    "def scrap_SMRT_busRoutes(url,shape_id):\n",
    "    gtfs_913T = ['46009','46281','46391','46761','46771','46781','46791','46811','46821','46831','46841','46799','46789','46779','46769','46399','46289','46008','46291',\n",
    "            '46199','46181','46071','46011','46511','46521','46579','46589','46019','46079','46189','46191','46299','46009']\n",
    "    \n",
    "    # fetch coordinates from onemap API\n",
    "    gtfs_913T_df = []\n",
    "    for row_ix, busStop in enumerate(gtfs_913T):\n",
    "        location = f'{busStop} (BUS STOP)'\n",
    "        url = f\"https://www.onemap.gov.sg/api/common/elastic/search?searchVal={location}&returnGeom=Y&getAddrDetails=Y\"\n",
    "        \n",
    "        response = publicTransit.get_OneMap_response(url,headers=headers)\n",
    "        response_first_result = response['results'] # get first item in the list\n",
    "        road_name = response_first_result[0]['ROAD_NAME']\n",
    "        shape_pt_lat = response_first_result[0]['LATITUDE']\n",
    "        shape_pt_lon = response_first_result[0]['LONGITUDE']\n",
    "        gtfs_913T_df.append({'busStop':busStop,'busDescription':road_name,\n",
    "                             'shape_id':shape_id,'shape_pt_sequence':int(row_ix+1),\n",
    "                             'shape_pt_lat':shape_pt_lat,'shape_pt_lon':shape_pt_lon})\n",
    "\n",
    "    return pd.DataFrame(gtfs_913T_df)\n",
    "# scrap_SMRT_busRoutes(url,\"shape_id\")\n",
    "\n",
    "missing_gtfs_shape = scrap_SMRT_busRoutes(url,shape_id='913T:WD:0_shape')\n",
    "routeId = '913T'\n",
    "tripDirection = 0\n",
    "missing_gtfs_shape.to_csv(os.path.join(r\"C:\\Users\\hypak\\OneDrive - Singapore Management University\\Documents\\Data\\SG_LTA\\missing_gtfs_shape\",\n",
    "                                       f\"gtfs_shape_{routeId}_{tripDirection}.csv\"),index=False)\n",
    "missing_gtfs_shape"
   ]
  },
  {
   "cell_type": "code",
   "execution_count": null,
   "metadata": {},
   "outputs": [],
   "source": [
    "location = '46009 (BUS STOP)'\n",
    "url = f\"https://www.onemap.gov.sg/api/common/elastic/search?searchVal={location}&returnGeom=Y&getAddrDetails=Y\"\n",
    "    \n",
    "response = publicTransit.get_OneMap_response(url,headers=headers)\n",
    "response"
   ]
  },
  {
   "cell_type": "code",
   "execution_count": null,
   "metadata": {},
   "outputs": [],
   "source": [
    "url = \"https://moovitapp.com/index/en-gb/public_transportation-line-359-Singapore_%E6%96%B0%E5%8A%A0%E5%9D%A1-1678-904138-586713-0\"\n",
    "def scrap_moovit_busRoutes(url,shape_id):\n",
    "    stop_list = []\n",
    "    # Send an HTTP request to the website\n",
    "    response = requests.get(url)\n",
    "    response.text\n",
    "    # Check if request was successful\n",
    "    if response.status_code == 200:\n",
    "        # Parse the HTML content\n",
    "        soup = BeautifulSoup(response.text, 'html.parser')\n",
    "        \n",
    "        # Find all <h3> elements inside the list\n",
    "        stops = soup.select(\"ul.stops-list h3\")\n",
    "        \n",
    "        # Extract and print the text from each <h3>\n",
    "        for i,stop in enumerate(stops):\n",
    "            busName = stop.text.strip()\n",
    "            try:\n",
    "                m = re.findall(r'\\((.*?)\\)',busName)[0]\n",
    "            except:\n",
    "                print(busName)\n",
    "                raise Exception('bus stop ID not found')\n",
    "                # m = '77009'\n",
    "            stop_list.append({'busStop':m,'busDescription':busName,\n",
    "                              'shape_id':shape_id,'shape_pt_sequence':int(i+1)})\n",
    "    else:\n",
    "        print(\"Failed to retrieve the webpage.\")\n",
    "    return pd.DataFrame(stop_list)\n",
    "\n",
    "# missing_gtfs_shape = scrap_moovit_busRoutes(url,shape_id='359:WD:0_shape')\n",
    "# missing_gtfs_shape"
   ]
  },
  {
   "cell_type": "markdown",
   "metadata": {},
   "source": [
    "add coordinates of bus stop using OneMap API"
   ]
  },
  {
   "cell_type": "code",
   "execution_count": null,
   "metadata": {},
   "outputs": [],
   "source": [
    "headers = publicTransit.generate_OneMap_token()"
   ]
  },
  {
   "cell_type": "code",
   "execution_count": null,
   "metadata": {},
   "outputs": [],
   "source": [
    "routeId = \"900\"\n",
    "tripDirection = 0\n",
    "# scrap moovit app\n",
    "url = \"https://moovitapp.com/index/en-gb/public_transportation-line-900-Singapore_%E6%96%B0%E5%8A%A0%E5%9D%A1-1678-775181-575962-0\"\n",
    "missing_gtfs_shape = scrap_moovit_busRoutes(url,shape_id=f'{routeId}:WD:{tripDirection}_shape')\n",
    "# fetch coordinates from onemap API\n",
    "lat_list = []\n",
    "lon_list = []\n",
    "for row_ix, row in missing_gtfs_shape.iterrows():\n",
    "    location = f'{row[\"busStop\"]} (BUS STOP)'\n",
    "    url = f\"https://www.onemap.gov.sg/api/common/elastic/search?searchVal={location}&returnGeom=Y&getAddrDetails=Y\"\n",
    "    \n",
    "    response = publicTransit.get_OneMap_response(url,headers=headers)\n",
    "    response_first_result = response['results'] # get first item in the list\n",
    "    shape_pt_lat = response_first_result[0]['LATITUDE']\n",
    "    shape_pt_lon = response_first_result[0]['LONGITUDE']\n",
    "    lat_list.append(shape_pt_lat)\n",
    "    lon_list.append(shape_pt_lon)\n",
    "\n",
    "missing_gtfs_shape['shape_pt_lat'] = lat_list\n",
    "missing_gtfs_shape['shape_pt_lon'] = lon_list\n",
    "\n",
    "missing_gtfs_shape.to_csv(os.path.join(r\"C:\\Users\\hypak\\OneDrive - Singapore Management University\\Documents\\Data\\SG_LTA\\missing_gtfs_shape\",\n",
    "                                       f\"gtfs_shape_{routeId}_{tripDirection}.csv\"),index=False)\n",
    "missing_gtfs_shape"
   ]
  },
  {
   "cell_type": "markdown",
   "metadata": {},
   "source": []
  }
 ],
 "metadata": {
  "kernelspec": {
   "display_name": "ox",
   "language": "python",
   "name": "python3"
  },
  "language_info": {
   "codemirror_mode": {
    "name": "ipython",
    "version": 3
   },
   "file_extension": ".py",
   "mimetype": "text/x-python",
   "name": "python",
   "nbconvert_exporter": "python",
   "pygments_lexer": "ipython3",
   "version": "3.13.1"
  }
 },
 "nbformat": 4,
 "nbformat_minor": 2
}
